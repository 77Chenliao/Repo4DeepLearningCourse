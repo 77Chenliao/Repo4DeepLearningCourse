{
 "cells": [
  {
   "cell_type": "code",
   "execution_count": 2,
   "metadata": {},
   "outputs": [],
   "source": [
    "import os\n",
    "import struct\n",
    "import numpy as np\n",
    "import torch\n",
    "from torch.utils.data import Dataset\n",
    "from torchvision import transforms\n",
    "from PIL import Image\n",
    "\n",
    "class FashionMNISTDataset(Dataset):\n",
    "    def __init__(self, image_path, label_path, transform=None):\n",
    "        self.images = self.read_images(image_path)\n",
    "        self.labels = self.read_labels(label_path)\n",
    "        self.transform = transform\n",
    "\n",
    "    def read_images(self, path):\n",
    "        with open(path, 'rb') as f:\n",
    "            _, num, rows, cols = struct.unpack(\">IIII\", f.read(16))\n",
    "            images = np.fromfile(f, dtype=np.uint8).reshape(num, rows, cols)\n",
    "        return images\n",
    "\n",
    "    def read_labels(self, path):\n",
    "        with open(path, 'rb') as f:\n",
    "            _, num = struct.unpack(\">II\", f.read(8))\n",
    "            labels = np.fromfile(f, dtype=np.uint8)\n",
    "        return labels\n",
    "\n",
    "    def __len__(self):\n",
    "        return len(self.labels)\n",
    "\n",
    "    def __getitem__(self, idx):\n",
    "        image = self.images[idx]\n",
    "        label = self.labels[idx]\n",
    "        image = Image.fromarray(image, mode='L')\n",
    "        if self.transform:\n",
    "            image = self.transform(image)\n",
    "        return image, label\n",
    "\n",
    "transform = transforms.Compose([\n",
    "    transforms.ToTensor(),\n",
    "    transforms.Normalize((0.5,), (0.5,))\n",
    "])\n",
    "\n",
    "train_dataset = FashionMNISTDataset('./datasets/FashionMNIST/train-images-idx3-ubyte',\n",
    "                                    './datasets/FashionMNIST/train-labels-idx1-ubyte',\n",
    "                                    transform=transform)\n",
    "\n",
    "train_loader = torch.utils.data.DataLoader(train_dataset, batch_size=64, shuffle=True)\n"
   ]
  },
  {
   "cell_type": "code",
   "execution_count": 12,
   "metadata": {},
   "outputs": [
    {
     "data": {
      "text/plain": [
       "60000"
      ]
     },
     "execution_count": 12,
     "metadata": {},
     "output_type": "execute_result"
    }
   ],
   "source": []
  }
 ],
 "metadata": {
  "kernelspec": {
   "display_name": "Pytorch",
   "language": "python",
   "name": "python3"
  },
  "language_info": {
   "codemirror_mode": {
    "name": "ipython",
    "version": 3
   },
   "file_extension": ".py",
   "mimetype": "text/x-python",
   "name": "python",
   "nbconvert_exporter": "python",
   "pygments_lexer": "ipython3",
   "version": "3.8.16"
  }
 },
 "nbformat": 4,
 "nbformat_minor": 2
}
